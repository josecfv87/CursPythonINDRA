{
 "cells": [
  {
   "cell_type": "code",
   "execution_count": 1,
   "id": "0ab193c7",
   "metadata": {},
   "outputs": [
    {
     "name": "stdout",
     "output_type": "stream",
     "text": [
      "Active code page: 1252\n",
      " Volume in drive C has no label.\n",
      " Volume Serial Number is 1831-902E\n",
      "\n",
      " Directory of C:\\Users\\VD25JVG\\CursPythonINDRA\n",
      "\n",
      "16/11/2021  12:59    <DIR>          .\n",
      "16/11/2021  12:59    <DIR>          ..\n",
      "16/11/2021  12:59    <DIR>          .ipynb_checkpoints\n",
      "15/11/2021  13:14    <DIR>          __pycache__\n",
      "15/11/2021  13:25    <DIR>          build\n",
      "15/11/2021  13:25    <DIR>          dist\n",
      "15/11/2021  12:00               100 ejemplo_python.py\n",
      "15/11/2021  13:03                87 hola.py\n",
      "15/11/2021  13:25             1.161 hola.spec\n",
      "15/11/2021  11:38    <DIR>          Include\n",
      "15/11/2021  11:38    <DIR>          Lib\n",
      "16/11/2021  12:59                72 mi_primer_cuaderno.ipynb\n",
      "15/11/2021  11:38                88 pyvenv.cfg\n",
      "15/11/2021  13:23    <DIR>          Scripts\n",
      "               5 File(s)          1.508 bytes\n",
      "               9 Dir(s)  118.408.130.560 bytes free\n"
     ]
    }
   ],
   "source": [
    "ls"
   ]
  },
  {
   "cell_type": "code",
   "execution_count": null,
   "id": "54b9777c",
   "metadata": {},
   "outputs": [],
   "source": []
  }
 ],
 "metadata": {
  "kernelspec": {
   "display_name": "Python 3",
   "language": "python",
   "name": "python3"
  },
  "language_info": {
   "codemirror_mode": {
    "name": "ipython",
    "version": 3
   },
   "file_extension": ".py",
   "mimetype": "text/x-python",
   "name": "python",
   "nbconvert_exporter": "python",
   "pygments_lexer": "ipython3",
   "version": "3.8.8"
  }
 },
 "nbformat": 4,
 "nbformat_minor": 5
}
